{
 "cells": [
  {
   "cell_type": "markdown",
   "id": "8e00b0e7",
   "metadata": {},
   "source": [
    "# Phenomenon 1 Analysis- Start Stations"
   ]
  },
  {
   "cell_type": "markdown",
   "id": "5d830fce",
   "metadata": {},
   "source": [
    "- The first visualization arranges the start stations in descending order according to how many rides were initiated at each one. The top five were: South Waterfront Walkway, Hoboken Terminal, Grove St. Path, Hoboken Terminal- Hudson St, and Newport Parkway.\n",
    "- The next visualization is a map of all of the start stations that seeks to answer why these stations were the most popular. Each start station is represented by a circle. As the number of rides initiated per start station increases, the circle grows larger, and it changes from red to white, to blue. Taking a look at where the largest and bluest circles are located on the map, it is evident that there is a trend. The bluest and largest circles are either at train terminals or parks. \n",
    "- In order to determine why the most popular stations were at terminals and parks, I decided to create a visualization that shows how many rides were initiated at the top ten stations every hour. According to this line graph, there is a small peak in rides around 7-8am, and a very large peak from 5-6pm. These times coincide with the typical work hours in the United States.\n",
    "- With all of this information, I concluded that the most popular stations are at terminals and parks because consumers are mainly using these bikes as a part of their commute to work. The pattern seems to be that people are arriving at the park then riding the bikes all the way to their work, or they are riding the train and biking to work from the train station."
   ]
  },
  {
   "cell_type": "markdown",
   "id": "4c5eece1",
   "metadata": {},
   "source": [
    "# Phenomenon 2 Analyis- End Stations"
   ]
  },
  {
   "cell_type": "markdown",
   "id": "4a4e67f9",
   "metadata": {},
   "source": [
    "- I wanted to analyze the end stations because I hypothesized that if the most popular start stations were places consumers use for their commute to work, the most popular end stations would be similar as people are leaving work and commuting home using a similar route as they one they used to arrive at work.\n",
    "- I created another visualization that arranges the end stations in descending order according to how many rides were ended at each one. It appears as though I was correct in my assumption. The most popular stations were the same: South Waterfront Walkway, Hoboken Terminal, Grove St. Path, Hoboken Terminal- Hudson St, and Newport Parkway.\n",
    "- I created a second map visualization to compare with the first. They were very similar; however, there was a significant increase in the amount of end stations in comparison with the start stations. \n",
    "- In order to confirm my theory, I hypothesized that the peak end times would also coincide with the start and end of a typical work day in the US. I created a visualization that shows how many rides were ended at the top ten end stations every hour. This visualization differed from the start station one, as instead of there being one small peak and one large peak, there were two large peaks that were about equal in size. The first peak was from 7-8am, and the second was from 5-6pm. \n",
    "- This allows me to conclude that the inverse of the first phenomemnon is also true: consumers are also using the citi bikes on their commutes home from work. "
   ]
  },
  {
   "cell_type": "markdown",
   "id": "a9c1e6c1",
   "metadata": {},
   "source": [
    "# Overall Analysis"
   ]
  },
  {
   "cell_type": "markdown",
   "id": "b9301182",
   "metadata": {},
   "source": [
    "- According to both of these phenomena that I have studied, we can conclude that the most popular use for Citi Bikes in New York City during the month of May 2015 was for commuting to work."
   ]
  }
 ],
 "metadata": {
  "kernelspec": {
   "display_name": "Python 3",
   "language": "python",
   "name": "python3"
  },
  "language_info": {
   "codemirror_mode": {
    "name": "ipython",
    "version": 3
   },
   "file_extension": ".py",
   "mimetype": "text/x-python",
   "name": "python",
   "nbconvert_exporter": "python",
   "pygments_lexer": "ipython3",
   "version": "3.8.8"
  }
 },
 "nbformat": 4,
 "nbformat_minor": 5
}
