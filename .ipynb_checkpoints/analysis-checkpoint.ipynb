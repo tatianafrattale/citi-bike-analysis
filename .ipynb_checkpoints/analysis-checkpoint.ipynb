{
 "cells": [
  {
   "cell_type": "markdown",
   "id": "68160b90",
   "metadata": {},
   "source": [
    "Phenomenon 1 Analysis- Start Stations"
   ]
  },
  {
   "cell_type": "markdown",
   "id": "e3af3c0a",
   "metadata": {},
   "source": [
    "- The first visualization arranges the start stations in descending order according to how many rides were initiated at each one. The top five were: South Waterfront Walkway, Hoboken Terminal, Grove St. Path, Hoboken Terminal- Hudson St, and Newport Parkway.\n",
    "- The next visualization is a map of all of the start stations that seeks to answer why these stations were the most popular. Each start station is represented by a circle. As the number of rides initiated per start station increases, the circle grows larger, and it changes from red to white, to blue. Taking a look at where the largest and bluest circles are located on the map, it is evident that there is a trend. The bluest and largest circles are either at train terminals or parks. \n",
    "- In order to determine why the most popular stations were at terminals and parks, I decided to create a visualization that shows how many rides were initiated at the top ten stations every hour. According to this line graph, there is a small peak in rides around 7-8am, and a very large peak from 5-6pm. These times coincide with the typical work hours in the United States.\n",
    "- With all of this information, I concluded that the most popular stations are at terminals and parks because consumers are mainly using these bikes as a part of their commute to work. The pattern seems to be that people are arriving at the park then riding the bikes all the way to their work, or they are riding the train and biking to work from the train station."
   ]
  },
  {
   "cell_type": "markdown",
   "id": "6ac5ac69",
   "metadata": {},
   "source": [
    "Phenomenon 2 Analyis- End Stations"
   ]
  },
  {
   "cell_type": "markdown",
   "id": "c480245f",
   "metadata": {},
   "source": []
  }
 ],
 "metadata": {
  "kernelspec": {
   "display_name": "Python 3",
   "language": "python",
   "name": "python3"
  },
  "language_info": {
   "codemirror_mode": {
    "name": "ipython",
    "version": 3
   },
   "file_extension": ".py",
   "mimetype": "text/x-python",
   "name": "python",
   "nbconvert_exporter": "python",
   "pygments_lexer": "ipython3",
   "version": "3.8.8"
  }
 },
 "nbformat": 4,
 "nbformat_minor": 5
}
